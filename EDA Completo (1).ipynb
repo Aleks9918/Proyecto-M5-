{
 "cells": [
  {
   "cell_type": "code",
   "execution_count": 1,
   "metadata": {},
   "outputs": [],
   "source": [
    "import numpy as np\n",
    "import pandas as pd\n",
    "import matplotlib.pyplot as plt\n",
    "import seaborn as sb"
   ]
  },
  {
   "cell_type": "markdown",
   "metadata": {},
   "source": [
    "# Analisis Exploratorio de Datos"
   ]
  },
  {
   "cell_type": "markdown",
   "metadata": {},
   "source": [
    "## Carga de la tabla"
   ]
  },
  {
   "cell_type": "code",
   "execution_count": 2,
   "metadata": {},
   "outputs": [
    {
     "ename": "FileNotFoundError",
     "evalue": "[Errno 2] No such file or directory: 'Call_Center_1999.csv'",
     "output_type": "error",
     "traceback": [
      "\u001b[1;31m---------------------------------------------------------------------------\u001b[0m",
      "\u001b[1;31mFileNotFoundError\u001b[0m                         Traceback (most recent call last)",
      "Cell \u001b[1;32mIn[2], line 1\u001b[0m\n\u001b[1;32m----> 1\u001b[0m calls_carga \u001b[38;5;241m=\u001b[39m \u001b[43mpd\u001b[49m\u001b[38;5;241;43m.\u001b[39;49m\u001b[43mread_csv\u001b[49m\u001b[43m(\u001b[49m\u001b[38;5;124;43m'\u001b[39;49m\u001b[38;5;124;43mCall_Center_1999.csv\u001b[39;49m\u001b[38;5;124;43m'\u001b[39;49m\u001b[43m,\u001b[49m\u001b[43mdelimiter\u001b[49m\u001b[43m \u001b[49m\u001b[38;5;241;43m=\u001b[39;49m\u001b[43m \u001b[49m\u001b[38;5;124;43m'\u001b[39;49m\u001b[38;5;124;43m;\u001b[39;49m\u001b[38;5;124;43m'\u001b[39;49m\u001b[43m,\u001b[49m\u001b[43mencoding\u001b[49m\u001b[43m \u001b[49m\u001b[38;5;241;43m=\u001b[39;49m\u001b[43m \u001b[49m\u001b[38;5;124;43m\"\u001b[39;49m\u001b[38;5;124;43mutf-8\u001b[39;49m\u001b[38;5;124;43m\"\u001b[39;49m\u001b[43m)\u001b[49m\n",
      "File \u001b[1;32mc:\\Users\\Usuario\\AppData\\Local\\Programs\\Python\\Python312\\Lib\\site-packages\\pandas\\io\\parsers\\readers.py:1026\u001b[0m, in \u001b[0;36mread_csv\u001b[1;34m(filepath_or_buffer, sep, delimiter, header, names, index_col, usecols, dtype, engine, converters, true_values, false_values, skipinitialspace, skiprows, skipfooter, nrows, na_values, keep_default_na, na_filter, verbose, skip_blank_lines, parse_dates, infer_datetime_format, keep_date_col, date_parser, date_format, dayfirst, cache_dates, iterator, chunksize, compression, thousands, decimal, lineterminator, quotechar, quoting, doublequote, escapechar, comment, encoding, encoding_errors, dialect, on_bad_lines, delim_whitespace, low_memory, memory_map, float_precision, storage_options, dtype_backend)\u001b[0m\n\u001b[0;32m   1013\u001b[0m kwds_defaults \u001b[38;5;241m=\u001b[39m _refine_defaults_read(\n\u001b[0;32m   1014\u001b[0m     dialect,\n\u001b[0;32m   1015\u001b[0m     delimiter,\n\u001b[1;32m   (...)\u001b[0m\n\u001b[0;32m   1022\u001b[0m     dtype_backend\u001b[38;5;241m=\u001b[39mdtype_backend,\n\u001b[0;32m   1023\u001b[0m )\n\u001b[0;32m   1024\u001b[0m kwds\u001b[38;5;241m.\u001b[39mupdate(kwds_defaults)\n\u001b[1;32m-> 1026\u001b[0m \u001b[38;5;28;01mreturn\u001b[39;00m \u001b[43m_read\u001b[49m\u001b[43m(\u001b[49m\u001b[43mfilepath_or_buffer\u001b[49m\u001b[43m,\u001b[49m\u001b[43m \u001b[49m\u001b[43mkwds\u001b[49m\u001b[43m)\u001b[49m\n",
      "File \u001b[1;32mc:\\Users\\Usuario\\AppData\\Local\\Programs\\Python\\Python312\\Lib\\site-packages\\pandas\\io\\parsers\\readers.py:620\u001b[0m, in \u001b[0;36m_read\u001b[1;34m(filepath_or_buffer, kwds)\u001b[0m\n\u001b[0;32m    617\u001b[0m _validate_names(kwds\u001b[38;5;241m.\u001b[39mget(\u001b[38;5;124m\"\u001b[39m\u001b[38;5;124mnames\u001b[39m\u001b[38;5;124m\"\u001b[39m, \u001b[38;5;28;01mNone\u001b[39;00m))\n\u001b[0;32m    619\u001b[0m \u001b[38;5;66;03m# Create the parser.\u001b[39;00m\n\u001b[1;32m--> 620\u001b[0m parser \u001b[38;5;241m=\u001b[39m \u001b[43mTextFileReader\u001b[49m\u001b[43m(\u001b[49m\u001b[43mfilepath_or_buffer\u001b[49m\u001b[43m,\u001b[49m\u001b[43m \u001b[49m\u001b[38;5;241;43m*\u001b[39;49m\u001b[38;5;241;43m*\u001b[39;49m\u001b[43mkwds\u001b[49m\u001b[43m)\u001b[49m\n\u001b[0;32m    622\u001b[0m \u001b[38;5;28;01mif\u001b[39;00m chunksize \u001b[38;5;129;01mor\u001b[39;00m iterator:\n\u001b[0;32m    623\u001b[0m     \u001b[38;5;28;01mreturn\u001b[39;00m parser\n",
      "File \u001b[1;32mc:\\Users\\Usuario\\AppData\\Local\\Programs\\Python\\Python312\\Lib\\site-packages\\pandas\\io\\parsers\\readers.py:1620\u001b[0m, in \u001b[0;36mTextFileReader.__init__\u001b[1;34m(self, f, engine, **kwds)\u001b[0m\n\u001b[0;32m   1617\u001b[0m     \u001b[38;5;28mself\u001b[39m\u001b[38;5;241m.\u001b[39moptions[\u001b[38;5;124m\"\u001b[39m\u001b[38;5;124mhas_index_names\u001b[39m\u001b[38;5;124m\"\u001b[39m] \u001b[38;5;241m=\u001b[39m kwds[\u001b[38;5;124m\"\u001b[39m\u001b[38;5;124mhas_index_names\u001b[39m\u001b[38;5;124m\"\u001b[39m]\n\u001b[0;32m   1619\u001b[0m \u001b[38;5;28mself\u001b[39m\u001b[38;5;241m.\u001b[39mhandles: IOHandles \u001b[38;5;241m|\u001b[39m \u001b[38;5;28;01mNone\u001b[39;00m \u001b[38;5;241m=\u001b[39m \u001b[38;5;28;01mNone\u001b[39;00m\n\u001b[1;32m-> 1620\u001b[0m \u001b[38;5;28mself\u001b[39m\u001b[38;5;241m.\u001b[39m_engine \u001b[38;5;241m=\u001b[39m \u001b[38;5;28;43mself\u001b[39;49m\u001b[38;5;241;43m.\u001b[39;49m\u001b[43m_make_engine\u001b[49m\u001b[43m(\u001b[49m\u001b[43mf\u001b[49m\u001b[43m,\u001b[49m\u001b[43m \u001b[49m\u001b[38;5;28;43mself\u001b[39;49m\u001b[38;5;241;43m.\u001b[39;49m\u001b[43mengine\u001b[49m\u001b[43m)\u001b[49m\n",
      "File \u001b[1;32mc:\\Users\\Usuario\\AppData\\Local\\Programs\\Python\\Python312\\Lib\\site-packages\\pandas\\io\\parsers\\readers.py:1880\u001b[0m, in \u001b[0;36mTextFileReader._make_engine\u001b[1;34m(self, f, engine)\u001b[0m\n\u001b[0;32m   1878\u001b[0m     \u001b[38;5;28;01mif\u001b[39;00m \u001b[38;5;124m\"\u001b[39m\u001b[38;5;124mb\u001b[39m\u001b[38;5;124m\"\u001b[39m \u001b[38;5;129;01mnot\u001b[39;00m \u001b[38;5;129;01min\u001b[39;00m mode:\n\u001b[0;32m   1879\u001b[0m         mode \u001b[38;5;241m+\u001b[39m\u001b[38;5;241m=\u001b[39m \u001b[38;5;124m\"\u001b[39m\u001b[38;5;124mb\u001b[39m\u001b[38;5;124m\"\u001b[39m\n\u001b[1;32m-> 1880\u001b[0m \u001b[38;5;28mself\u001b[39m\u001b[38;5;241m.\u001b[39mhandles \u001b[38;5;241m=\u001b[39m \u001b[43mget_handle\u001b[49m\u001b[43m(\u001b[49m\n\u001b[0;32m   1881\u001b[0m \u001b[43m    \u001b[49m\u001b[43mf\u001b[49m\u001b[43m,\u001b[49m\n\u001b[0;32m   1882\u001b[0m \u001b[43m    \u001b[49m\u001b[43mmode\u001b[49m\u001b[43m,\u001b[49m\n\u001b[0;32m   1883\u001b[0m \u001b[43m    \u001b[49m\u001b[43mencoding\u001b[49m\u001b[38;5;241;43m=\u001b[39;49m\u001b[38;5;28;43mself\u001b[39;49m\u001b[38;5;241;43m.\u001b[39;49m\u001b[43moptions\u001b[49m\u001b[38;5;241;43m.\u001b[39;49m\u001b[43mget\u001b[49m\u001b[43m(\u001b[49m\u001b[38;5;124;43m\"\u001b[39;49m\u001b[38;5;124;43mencoding\u001b[39;49m\u001b[38;5;124;43m\"\u001b[39;49m\u001b[43m,\u001b[49m\u001b[43m \u001b[49m\u001b[38;5;28;43;01mNone\u001b[39;49;00m\u001b[43m)\u001b[49m\u001b[43m,\u001b[49m\n\u001b[0;32m   1884\u001b[0m \u001b[43m    \u001b[49m\u001b[43mcompression\u001b[49m\u001b[38;5;241;43m=\u001b[39;49m\u001b[38;5;28;43mself\u001b[39;49m\u001b[38;5;241;43m.\u001b[39;49m\u001b[43moptions\u001b[49m\u001b[38;5;241;43m.\u001b[39;49m\u001b[43mget\u001b[49m\u001b[43m(\u001b[49m\u001b[38;5;124;43m\"\u001b[39;49m\u001b[38;5;124;43mcompression\u001b[39;49m\u001b[38;5;124;43m\"\u001b[39;49m\u001b[43m,\u001b[49m\u001b[43m \u001b[49m\u001b[38;5;28;43;01mNone\u001b[39;49;00m\u001b[43m)\u001b[49m\u001b[43m,\u001b[49m\n\u001b[0;32m   1885\u001b[0m \u001b[43m    \u001b[49m\u001b[43mmemory_map\u001b[49m\u001b[38;5;241;43m=\u001b[39;49m\u001b[38;5;28;43mself\u001b[39;49m\u001b[38;5;241;43m.\u001b[39;49m\u001b[43moptions\u001b[49m\u001b[38;5;241;43m.\u001b[39;49m\u001b[43mget\u001b[49m\u001b[43m(\u001b[49m\u001b[38;5;124;43m\"\u001b[39;49m\u001b[38;5;124;43mmemory_map\u001b[39;49m\u001b[38;5;124;43m\"\u001b[39;49m\u001b[43m,\u001b[49m\u001b[43m \u001b[49m\u001b[38;5;28;43;01mFalse\u001b[39;49;00m\u001b[43m)\u001b[49m\u001b[43m,\u001b[49m\n\u001b[0;32m   1886\u001b[0m \u001b[43m    \u001b[49m\u001b[43mis_text\u001b[49m\u001b[38;5;241;43m=\u001b[39;49m\u001b[43mis_text\u001b[49m\u001b[43m,\u001b[49m\n\u001b[0;32m   1887\u001b[0m \u001b[43m    \u001b[49m\u001b[43merrors\u001b[49m\u001b[38;5;241;43m=\u001b[39;49m\u001b[38;5;28;43mself\u001b[39;49m\u001b[38;5;241;43m.\u001b[39;49m\u001b[43moptions\u001b[49m\u001b[38;5;241;43m.\u001b[39;49m\u001b[43mget\u001b[49m\u001b[43m(\u001b[49m\u001b[38;5;124;43m\"\u001b[39;49m\u001b[38;5;124;43mencoding_errors\u001b[39;49m\u001b[38;5;124;43m\"\u001b[39;49m\u001b[43m,\u001b[49m\u001b[43m \u001b[49m\u001b[38;5;124;43m\"\u001b[39;49m\u001b[38;5;124;43mstrict\u001b[39;49m\u001b[38;5;124;43m\"\u001b[39;49m\u001b[43m)\u001b[49m\u001b[43m,\u001b[49m\n\u001b[0;32m   1888\u001b[0m \u001b[43m    \u001b[49m\u001b[43mstorage_options\u001b[49m\u001b[38;5;241;43m=\u001b[39;49m\u001b[38;5;28;43mself\u001b[39;49m\u001b[38;5;241;43m.\u001b[39;49m\u001b[43moptions\u001b[49m\u001b[38;5;241;43m.\u001b[39;49m\u001b[43mget\u001b[49m\u001b[43m(\u001b[49m\u001b[38;5;124;43m\"\u001b[39;49m\u001b[38;5;124;43mstorage_options\u001b[39;49m\u001b[38;5;124;43m\"\u001b[39;49m\u001b[43m,\u001b[49m\u001b[43m \u001b[49m\u001b[38;5;28;43;01mNone\u001b[39;49;00m\u001b[43m)\u001b[49m\u001b[43m,\u001b[49m\n\u001b[0;32m   1889\u001b[0m \u001b[43m\u001b[49m\u001b[43m)\u001b[49m\n\u001b[0;32m   1890\u001b[0m \u001b[38;5;28;01massert\u001b[39;00m \u001b[38;5;28mself\u001b[39m\u001b[38;5;241m.\u001b[39mhandles \u001b[38;5;129;01mis\u001b[39;00m \u001b[38;5;129;01mnot\u001b[39;00m \u001b[38;5;28;01mNone\u001b[39;00m\n\u001b[0;32m   1891\u001b[0m f \u001b[38;5;241m=\u001b[39m \u001b[38;5;28mself\u001b[39m\u001b[38;5;241m.\u001b[39mhandles\u001b[38;5;241m.\u001b[39mhandle\n",
      "File \u001b[1;32mc:\\Users\\Usuario\\AppData\\Local\\Programs\\Python\\Python312\\Lib\\site-packages\\pandas\\io\\common.py:882\u001b[0m, in \u001b[0;36mget_handle\u001b[1;34m(path_or_buf, mode, encoding, compression, memory_map, is_text, errors, storage_options)\u001b[0m\n\u001b[0;32m    873\u001b[0m         handle \u001b[38;5;241m=\u001b[39m \u001b[38;5;28mopen\u001b[39m(\n\u001b[0;32m    874\u001b[0m             handle,\n\u001b[0;32m    875\u001b[0m             ioargs\u001b[38;5;241m.\u001b[39mmode,\n\u001b[1;32m   (...)\u001b[0m\n\u001b[0;32m    878\u001b[0m             newline\u001b[38;5;241m=\u001b[39m\u001b[38;5;124m\"\u001b[39m\u001b[38;5;124m\"\u001b[39m,\n\u001b[0;32m    879\u001b[0m         )\n\u001b[0;32m    880\u001b[0m     \u001b[38;5;28;01melse\u001b[39;00m:\n\u001b[0;32m    881\u001b[0m         \u001b[38;5;66;03m# Binary mode\u001b[39;00m\n\u001b[1;32m--> 882\u001b[0m         handle \u001b[38;5;241m=\u001b[39m \u001b[38;5;28;43mopen\u001b[39;49m\u001b[43m(\u001b[49m\u001b[43mhandle\u001b[49m\u001b[43m,\u001b[49m\u001b[43m \u001b[49m\u001b[43mioargs\u001b[49m\u001b[38;5;241;43m.\u001b[39;49m\u001b[43mmode\u001b[49m\u001b[43m)\u001b[49m\n\u001b[0;32m    883\u001b[0m     handles\u001b[38;5;241m.\u001b[39mappend(handle)\n\u001b[0;32m    885\u001b[0m \u001b[38;5;66;03m# Convert BytesIO or file objects passed with an encoding\u001b[39;00m\n",
      "\u001b[1;31mFileNotFoundError\u001b[0m: [Errno 2] No such file or directory: 'Call_Center_1999.csv'"
     ]
    }
   ],
   "source": [
    "calls_carga = pd.read_csv('Call_Center_1999.csv',delimiter = ';',encoding = \"utf-8\")"
   ]
  },
  {
   "cell_type": "code",
   "execution_count": null,
   "metadata": {},
   "outputs": [],
   "source": [
    "calls_carga"
   ]
  },
  {
   "cell_type": "markdown",
   "metadata": {},
   "source": [
    "## Normalizacion"
   ]
  },
  {
   "cell_type": "code",
   "execution_count": 12,
   "metadata": {},
   "outputs": [],
   "source": [
    "calls = calls_carga.copy()"
   ]
  },
  {
   "cell_type": "code",
   "execution_count": null,
   "metadata": {},
   "outputs": [],
   "source": [
    "calls"
   ]
  },
  {
   "cell_type": "markdown",
   "metadata": {},
   "source": [
    "Se borraron las columnas vru_exit, q_exit, ser_exit, q_start, ser_start y startdate debido a que la informacion que aportaban esta columnas era redundante ya que se puede deducir de otras columnas (vru_entry, vru_time, q_time, ser_time).<br>"
   ]
  },
  {
   "cell_type": "code",
   "execution_count": 14,
   "metadata": {},
   "outputs": [],
   "source": [
    "calls.drop(columns=['vru_exit', 'q_exit', 'ser_exit', 'q_start', 'ser_start', 'startdate'], inplace=True)"
   ]
  },
  {
   "cell_type": "code",
   "execution_count": null,
   "metadata": {},
   "outputs": [],
   "source": [
    "calls"
   ]
  },
  {
   "cell_type": "markdown",
   "metadata": {},
   "source": [
    "Se realizó el cambio de 'priority' de 0, 1 y 2 a \"Normal\" y \"Alta\" para identificar con mayor facilidad el nivel de prioridad de cada cliente<br>"
   ]
  },
  {
   "cell_type": "code",
   "execution_count": 16,
   "metadata": {},
   "outputs": [],
   "source": [
    "calls['priority']=calls['priority'].replace(2,'Alta')\n",
    "calls['priority']=calls['priority'].replace(1,'Normal')\n",
    "calls['priority']=calls['priority'].replace(0,'Normal')"
   ]
  },
  {
   "cell_type": "markdown",
   "metadata": {},
   "source": [
    "Se consideró que los nombres \"ANO_SERVERT\" y \"NO_SERVERAMA\" tuvieron un error de ingreso y correspondian a \"NO_SERVER\" por lo cual se realizó el cambio. Se modificaron 1221 registros."
   ]
  },
  {
   "cell_type": "code",
   "execution_count": 17,
   "metadata": {},
   "outputs": [],
   "source": [
    "calls['server']=calls['server'].replace('NO_SERVERAMA','NO_SERVER')\n",
    "calls['server']=calls['server'].replace('ANO_SERVERT','NO_SERVER')"
   ]
  },
  {
   "cell_type": "code",
   "execution_count": null,
   "metadata": {},
   "outputs": [],
   "source": [
    "calls.loc[calls['server']=='NO_SERVERAMA']\n",
    "calls.loc[calls['server']=='ANO_SERVERT']"
   ]
  },
  {
   "cell_type": "markdown",
   "metadata": {},
   "source": [
    "Se identificó que se cometió un error al digitar el valor 'TT' en 'type'. Se cambió el valor ' TT' por 'TT'. Se actualizaron 6 registros"
   ]
  },
  {
   "cell_type": "code",
   "execution_count": 19,
   "metadata": {},
   "outputs": [],
   "source": [
    "calls['type']=calls['type'].replace(' TT','TT')"
   ]
  },
  {
   "cell_type": "code",
   "execution_count": null,
   "metadata": {},
   "outputs": [],
   "source": [
    "calls.loc[calls['type']==' TT']"
   ]
  },
  {
   "cell_type": "markdown",
   "metadata": {},
   "source": [
    "Al continuar con la verificación de los registros de llamadas, se indentificó que hay un tipo llamada categorizada como \"AA\" que no está presente en la categorización de los tipos de llamada en nuestra base de datos. "
   ]
  },
  {
   "cell_type": "code",
   "execution_count": null,
   "metadata": {},
   "outputs": [],
   "source": [
    "calls[calls['type']=='AA']"
   ]
  },
  {
   "cell_type": "markdown",
   "metadata": {},
   "source": [
    "Solo tiene vru_time"
   ]
  },
  {
   "cell_type": "markdown",
   "metadata": {},
   "source": [
    "Se borraron los registros de llamadas que tienen los tres campos: vru_time, q_time y ser_time en cero, ya que para el analisis a realizar la variable principal son los tiempos, por lo que no se consideran objeto de estudio y no aportan informacion relevante. \n",
    "\n",
    "5390 registros"
   ]
  },
  {
   "cell_type": "code",
   "execution_count": 21,
   "metadata": {},
   "outputs": [],
   "source": [
    "calls.drop(calls[(calls['q_time']==0)&(calls['ser_time']==0)&(calls['vru_time']==0)].index, inplace=True)"
   ]
  },
  {
   "cell_type": "code",
   "execution_count": null,
   "metadata": {},
   "outputs": [],
   "source": [
    "calls"
   ]
  },
  {
   "cell_type": "markdown",
   "metadata": {},
   "source": [
    "## Analisis de Outliers en tiempos"
   ]
  },
  {
   "cell_type": "markdown",
   "metadata": {},
   "source": [
    "### Tiempo en VRU"
   ]
  },
  {
   "cell_type": "code",
   "execution_count": null,
   "metadata": {},
   "outputs": [],
   "source": [
    "calls['vru_time'].describe()"
   ]
  },
  {
   "cell_type": "code",
   "execution_count": null,
   "metadata": {},
   "outputs": [],
   "source": [
    "plt.plot(calls['vru_time']/60,'o',markersize=0.8)\n",
    "plt.title('Tiempo en VRU', fontweight = 'bold',fontsize=15)\n",
    "plt.xlabel('Llamadas')\n",
    "plt.ylabel('tiempo (min)')\n",
    "plt.show()"
   ]
  },
  {
   "cell_type": "markdown",
   "metadata": {},
   "source": [
    "#### Boxplot"
   ]
  },
  {
   "cell_type": "markdown",
   "metadata": {},
   "source": [
    "Limites segun el Boxplot: tiempo maximo 16 segundos y minimo 0 segundos <br>"
   ]
  },
  {
   "cell_type": "code",
   "execution_count": null,
   "metadata": {},
   "outputs": [],
   "source": [
    "#Calculo de bigotes\n",
    "Q3 = float(calls['vru_time'].quantile(0.75))\n",
    "Q1 = float(calls['vru_time'].quantile(0.25))\n",
    "RIC = Q3 - Q1\n",
    "\n",
    "Min_vru_bp = Q1 - 1.5*RIC\n",
    "if Min_vru_bp < min(calls['vru_time']):\n",
    "    Min_vru_bp = min(calls['vru_time'])\n",
    "Max_vru_bp = Q3 + 1.5*RIC\n",
    "if Max_vru_bp > max(calls['vru_time']):\n",
    "    Max_vru_bp = max(calls['vru_time'])\n",
    "\n",
    "Min_vru_bp, Max_vru_bp"
   ]
  },
  {
   "cell_type": "code",
   "execution_count": null,
   "metadata": {},
   "outputs": [],
   "source": [
    "#Box plot completo\n",
    "plt.boxplot(calls['vru_time']/60)\n",
    "plt.title('Boxplot de Tiempo en VRU',fontsize=15,fontweight='bold')\n",
    "plt.ylabel('tiempos (min)')\n",
    "plt.show()"
   ]
  },
  {
   "cell_type": "code",
   "execution_count": null,
   "metadata": {},
   "outputs": [],
   "source": [
    "#Box plot enfocado en el box\n",
    "plt.boxplot(calls['vru_time']/60)\n",
    "plt.ylim(Min_vru_bp*0.9/60,Max_vru_bp*1.1/60)\n",
    "plt.title('Boxplot de Tiempo en VRU reducido',fontsize=15,fontweight='bold')\n",
    "plt.ylabel('tiempos (min)')\n",
    "plt.show()"
   ]
  },
  {
   "cell_type": "markdown",
   "metadata": {},
   "source": [
    "#### Sigmas"
   ]
  },
  {
   "cell_type": "markdown",
   "metadata": {},
   "source": [
    "1 sigma"
   ]
  },
  {
   "cell_type": "markdown",
   "metadata": {},
   "source": [
    "Limites segun el metodo de 1 sigma: tiempo maximo 45.55 segundos y minimo -24.72 segundos"
   ]
  },
  {
   "cell_type": "code",
   "execution_count": null,
   "metadata": {},
   "outputs": [],
   "source": [
    "Max_vru_s1 = calls['vru_time'].mean() + (1 * calls['vru_time'].std())\n",
    "Min_vru_s1 = calls['vru_time'].mean() - (1 * calls['vru_time'].std())\n",
    "\n",
    "if Min_vru_s1 < min(calls['vru_time']):\n",
    "    Min_vru_s1 = min(calls['vru_time'])\n",
    "if Max_vru_s1 > max(calls['vru_time']):\n",
    "    Max_vru_s1 = max(calls['vru_time'])\n",
    "\n",
    "Min_vru_s1, Max_vru_s1"
   ]
  },
  {
   "cell_type": "markdown",
   "metadata": {},
   "source": [
    "2 sigmas"
   ]
  },
  {
   "cell_type": "markdown",
   "metadata": {},
   "source": [
    "Limites segun el metodo de los 2 sigmas: tiempo maximo 80.69 segundos (1.34 minutos) y minimo -59.86 segundos (aprox -1 minuto)"
   ]
  },
  {
   "cell_type": "code",
   "execution_count": null,
   "metadata": {},
   "outputs": [],
   "source": [
    "Max_vru_s2 = calls['vru_time'].mean() + (2 * calls['vru_time'].std())\n",
    "Min_vru_s2 = calls['vru_time'].mean() - (2 * calls['vru_time'].std())\n",
    "\n",
    "if Min_vru_s2 < min(calls['vru_time']):\n",
    "    Min_vru_s2 = min(calls['vru_time'])\n",
    "if Max_vru_s2 > max(calls['vru_time']):\n",
    "    Max_vru_s2 = max(calls['vru_time'])\n",
    "\n",
    "Min_vru_s2, Max_vru_s2"
   ]
  },
  {
   "cell_type": "markdown",
   "metadata": {},
   "source": [
    "3 sigmas"
   ]
  },
  {
   "cell_type": "markdown",
   "metadata": {},
   "source": [
    "Limites segun el metodo de 1 sigma: tiempo maximo 115.82 segundos (1.93 minutos) y minimo -94.99 segundos (-1.58 minutos)"
   ]
  },
  {
   "cell_type": "code",
   "execution_count": null,
   "metadata": {},
   "outputs": [],
   "source": [
    "Max_vru_s3 = calls['vru_time'].mean() + (3 * calls['vru_time'].std())\n",
    "Min_vru_s3 = calls['vru_time'].mean() - (3 * calls['vru_time'].std())\n",
    "\n",
    "if Min_vru_s3 < min(calls['vru_time']):\n",
    "    Min_vru_s3 = min(calls['vru_time'])\n",
    "if Max_vru_s3 > max(calls['vru_time']):\n",
    "    Max_vru_s3 = max(calls['vru_time'])\n",
    "\n",
    "Min_vru_s3, Max_vru_s3"
   ]
  },
  {
   "cell_type": "markdown",
   "metadata": {},
   "source": [
    "#### Conclusion"
   ]
  },
  {
   "cell_type": "code",
   "execution_count": null,
   "metadata": {},
   "outputs": [],
   "source": [
    "#Grafica de los outliers\n",
    "plt.plot(calls['vru_time'],'o', markersize = 0.8)\n",
    "plt.axhline(y=Max_vru_s3, color='green', linestyle='--', lw=1)\n",
    "plt.axhline(y=Max_vru_s2, color='purple', linestyle='--', lw=1)\n",
    "plt.axhline(y=Max_vru_s1, color='r', linestyle='--', lw=1)\n",
    "plt.axhline(y=Max_vru_bp, color='orange', linestyle='--', lw=1)\n",
    "plt.axhline(y=calls['vru_time'].mean(), color='black', linestyle='--', lw=1.4)\n",
    "plt.axhline(y=0, color='black', linestyle='-', lw=0.9)\n",
    "plt.ylim(Min_vru_s3*0.5,Max_vru_s3*1.8)\n",
    "plt.legend(['Llamadas','3 sigmas','2 sigmas','1 sigma','BoxPlot','Promedio'],loc=\"upper right\")\n",
    "plt.ylabel('Tiempo en segundos')\n",
    "plt.xlabel('Registros de llamadas')\n",
    "plt.title('Outliers Tiempo en VRU',fontsize=15,fontweight='bold')\n",
    "plt.show()"
   ]
  },
  {
   "cell_type": "markdown",
   "metadata": {},
   "source": [
    "Despues de utilizar los 4 metodos anteriores para identificar los outliers (el metodo de Box Plot y diferentes sigmas) y teniendo en cuenta los resultados arrojados, se decidió utilizar el método de 1 sigma el cual establece un tiempo maximo de 45.62 segundos debido a que este contiene los tiempos mas representativos de la muestra. Adicionalmente, se observó la existencia de tiempos negativos lo cual no corresponde a la realidad. Con base en lo anterior, se borraron 4913 registros (1.10%) <br>"
   ]
  },
  {
   "cell_type": "code",
   "execution_count": 32,
   "metadata": {},
   "outputs": [],
   "source": [
    "calls.drop(calls[(calls['vru_time']<0)|(calls['vru_time']>Max_vru_s1)].index,inplace=True)"
   ]
  },
  {
   "cell_type": "markdown",
   "metadata": {},
   "source": [
    "Quedaron 434145"
   ]
  },
  {
   "cell_type": "markdown",
   "metadata": {},
   "source": [
    "### Tiempo en Cola"
   ]
  },
  {
   "cell_type": "code",
   "execution_count": null,
   "metadata": {},
   "outputs": [],
   "source": [
    "calls['q_time'].describe()"
   ]
  },
  {
   "cell_type": "code",
   "execution_count": null,
   "metadata": {},
   "outputs": [],
   "source": [
    "plt.plot(calls['q_time']/60,'o',markersize=0.8)\n",
    "plt.title('Tiempo en Cola', fontweight = 'bold',fontsize=15)\n",
    "plt.xlabel('Llamadas')\n",
    "plt.ylabel('tiempo en minutos')\n",
    "plt.show()"
   ]
  },
  {
   "cell_type": "markdown",
   "metadata": {},
   "source": [
    "#### Boxplot"
   ]
  },
  {
   "cell_type": "markdown",
   "metadata": {},
   "source": [
    "Limites segun el Boxplot: tiempo maximo 202.5 segundos (3.38 minutos) y minimo 0 segundos <br>"
   ]
  },
  {
   "cell_type": "code",
   "execution_count": null,
   "metadata": {},
   "outputs": [],
   "source": [
    "#Calculo de bigotes\n",
    "Q3 = float(calls['q_time'].quantile(0.75))\n",
    "Q1 = float(calls['q_time'].quantile(0.25))\n",
    "RIC = Q3 - Q1\n",
    "\n",
    "Min_q_bp = Q1 - 1.5*RIC\n",
    "if Min_q_bp < min(calls['q_time']):\n",
    "    Min_q_bp = min(calls['q_time'])\n",
    "Max_q_bp = Q3 + 1.5*RIC\n",
    "if Max_q_bp > max(calls['q_time']):\n",
    "    Max_q_bp = max(calls['q_time'])\n",
    "\n",
    "Min_q_bp, Max_q_bp"
   ]
  },
  {
   "cell_type": "code",
   "execution_count": null,
   "metadata": {},
   "outputs": [],
   "source": [
    "#Box plot \n",
    "plt.boxplot(calls['q_time']/60)\n",
    "plt.title('Boxplot de Tiempo en Cola',fontsize=15,fontweight='bold')\n",
    "plt.ylabel('tiempos (min)')\n",
    "plt.show()"
   ]
  },
  {
   "cell_type": "code",
   "execution_count": null,
   "metadata": {},
   "outputs": [],
   "source": [
    "#Box plot enfocado en el box\n",
    "plt.boxplot(calls['q_time']/60)\n",
    "plt.title('Boxplot de Tiempo en Cola reducido',fontsize=15,fontweight='bold')\n",
    "plt.ylabel('tiempos (min)')\n",
    "plt.ylim(Min_q_bp*0.9/60,Max_q_bp*1.1/60)\n",
    "plt.show()"
   ]
  },
  {
   "cell_type": "markdown",
   "metadata": {},
   "source": [
    "#### Sigmas"
   ]
  },
  {
   "cell_type": "markdown",
   "metadata": {},
   "source": [
    "Limites segun el metodo de los 3 sigmas: tiempo maximo 421.61 segundos (7.03 minutos)"
   ]
  },
  {
   "cell_type": "code",
   "execution_count": null,
   "metadata": {},
   "outputs": [],
   "source": [
    "Max_q_s = calls['q_time'].mean() + (3 * calls['q_time'].std())\n",
    "Min_q_s = calls['q_time'].mean() - (3 * calls['q_time'].std())\n",
    "\n",
    "if Min_q_s < min(calls['q_time']):\n",
    "    Min_q_s = min(calls['q_time'])\n",
    "if Max_q_s > max(calls['q_time']):\n",
    "    Max_q_s = max(calls['q_time'])\n",
    "\n",
    "Min_q_s, Max_q_s"
   ]
  },
  {
   "cell_type": "markdown",
   "metadata": {},
   "source": [
    "#### Conclusion"
   ]
  },
  {
   "cell_type": "code",
   "execution_count": null,
   "metadata": {},
   "outputs": [],
   "source": [
    "#Grafica de los datos sin outliers\n",
    "plt.plot(calls['q_time']/60,'o', markersize = 0.8)\n",
    "plt.axhline(y=15, color='green', linestyle='--', lw=1.4)\n",
    "plt.axhline(y=12, color='purple', linestyle='--', lw=1.4)\n",
    "plt.axhline(y=Max_q_s/60, color='r', linestyle='--', lw=1.4)\n",
    "plt.axhline(y=Max_q_bp/60, color='orange', linestyle='--', lw=1.4)\n",
    "plt.axhline(y=(calls['q_time'].mean())/60, color='black', linestyle='--', lw=1.4)\n",
    "plt.ylim(0,25)\n",
    "plt.legend(['Llamadas','15 min', '12 min', '3 sigmas', 'BoxPlot', 'Promedio'],loc=\"upper right\" )\n",
    "plt.ylabel('Tiempo en minutos')\n",
    "plt.xlabel('Registros de llamadas')\n",
    "plt.title('Outliers Tiempo en Cola',fontsize=15,fontweight='bold')\n",
    "plt.show()"
   ]
  },
  {
   "cell_type": "markdown",
   "metadata": {},
   "source": [
    "Se realizó el calculo de los limites de tiempo usando Boxplot y los 3 sigmas, sin embargo se consideró que algunos registros que excedian estos limites eran relevantes para el analisis. Teniendo en cuenta el contexto del origen de los datos se determinó un tiempo límite de 15 minutos. De acuerdo con esto, se eliminaron 216 registros (0.05%)."
   ]
  },
  {
   "cell_type": "code",
   "execution_count": 40,
   "metadata": {},
   "outputs": [],
   "source": [
    "calls.drop(calls[(calls['q_time']<0)|(calls['q_time']>15*60)].index,inplace=True)"
   ]
  },
  {
   "cell_type": "markdown",
   "metadata": {},
   "source": [
    "Quedaron 433929 registros"
   ]
  },
  {
   "cell_type": "markdown",
   "metadata": {},
   "source": [
    "### Tiempo en Servicio"
   ]
  },
  {
   "cell_type": "code",
   "execution_count": null,
   "metadata": {},
   "outputs": [],
   "source": [
    "calls['ser_time'].describe()"
   ]
  },
  {
   "cell_type": "code",
   "execution_count": null,
   "metadata": {},
   "outputs": [],
   "source": [
    "plt.plot(calls['ser_time']/60,'o',markersize=0.8)\n",
    "plt.title('Tiempo en Servicio', fontweight = 'bold',fontsize=15)\n",
    "plt.xlabel('Llamadas')\n",
    "plt.ylabel('tiempo (min)')\n",
    "plt.show()"
   ]
  },
  {
   "cell_type": "markdown",
   "metadata": {},
   "source": [
    "#### Boxplot"
   ]
  },
  {
   "cell_type": "markdown",
   "metadata": {},
   "source": [
    "Limites segun el Boxplot: tiempo maximo 440 segundos (7.33 minutos) y minimo 0 segundos <br>"
   ]
  },
  {
   "cell_type": "code",
   "execution_count": null,
   "metadata": {},
   "outputs": [],
   "source": [
    "#Calculo de bigotes\n",
    "Q3 = float(calls['ser_time'].quantile(0.75))\n",
    "Q1 = float(calls['ser_time'].quantile(0.25))\n",
    "RIC = Q3 - Q1\n",
    "\n",
    "Min_ser_bp = Q1 - 1.5*RIC\n",
    "if Min_ser_bp < min(calls['ser_time']):\n",
    "    Min_ser_bp = min(calls['ser_time'])\n",
    "Max_ser_bp = Q3 + 1.5*RIC\n",
    "if Max_ser_bp > max(calls['ser_time']):\n",
    "    Max_ser_bp = max(calls['ser_time'])\n",
    "\n",
    "Min_ser_bp, Max_ser_bp"
   ]
  },
  {
   "cell_type": "code",
   "execution_count": null,
   "metadata": {},
   "outputs": [],
   "source": [
    "#Box plot completo\n",
    "plt.boxplot(calls['ser_time']/60)\n",
    "plt.title('Boxplot de Tiempo en Servicio',fontsize=15,fontweight='bold')\n",
    "plt.ylabel('tiempos (min)')\n",
    "plt.show()"
   ]
  },
  {
   "cell_type": "code",
   "execution_count": null,
   "metadata": {},
   "outputs": [],
   "source": [
    "#Box plot enfocado en el box\n",
    "plt.boxplot(calls['ser_time']/60)\n",
    "plt.title('Boxplot de Tiempo en Servicio reducido',fontsize=15,fontweight='bold')\n",
    "plt.ylabel('tiempos (min)')\n",
    "plt.ylim(Min_ser_bp*0.9/60,Max_ser_bp*1.1/60)\n",
    "plt.show()"
   ]
  },
  {
   "cell_type": "markdown",
   "metadata": {},
   "source": [
    "#### Sigmas"
   ]
  },
  {
   "cell_type": "markdown",
   "metadata": {},
   "source": [
    "Limites segun el metodo de los 3 sigmas: tiempo maximo 951.55 segundos (15.86 minutos) y minimo 0 segundos"
   ]
  },
  {
   "cell_type": "code",
   "execution_count": null,
   "metadata": {},
   "outputs": [],
   "source": [
    "Max_ser_s = calls['ser_time'].mean() + (3 * calls['ser_time'].std())\n",
    "Min_ser_s = calls['ser_time'].mean() - (3 * calls['ser_time'].std())\n",
    "\n",
    "if Min_ser_s < min(calls['ser_time']):\n",
    "    Min_ser_s = min(calls['ser_time'])\n",
    "if Max_ser_s > max(calls['ser_time']):\n",
    "    Max_ser_s = max(calls['ser_time'])\n",
    "\n",
    "Min_ser_s, Max_ser_s, Min_ser_s/60, Max_ser_s/60"
   ]
  },
  {
   "cell_type": "markdown",
   "metadata": {},
   "source": [
    "#### Conclusion"
   ]
  },
  {
   "cell_type": "code",
   "execution_count": null,
   "metadata": {},
   "outputs": [],
   "source": [
    "#Grafica de los datos\n",
    "plt.plot(calls['ser_time']/60,'o', markersize = 0.8)\n",
    "plt.axhline(y=50, color='green', linestyle='--', lw=1.4)\n",
    "plt.axhline(y=35, color='purple', linestyle='--', lw=1.4)\n",
    "plt.axhline(y=Max_ser_s/60, color='r', linestyle='--', lw=1.4)\n",
    "plt.axhline(y=Max_ser_bp/60, color='orange', linestyle='--', lw=1.4) \n",
    "plt.axhline(y=calls['ser_time'].mean()/60, color='black', linestyle='--', lw=1.4)\n",
    "plt.legend(['Llamadas','50 min', '35 min', '3 sigmas', 'BoxPlot', 'Promedio'],loc=\"upper right\" )\n",
    "plt.ylabel('Tiempo en minutos')\n",
    "plt.xlabel('Registros de llamadas')\n",
    "plt.ylim(Min_ser_s*0.9,90)\n",
    "plt.title('Outliers Tiempo en Servicio',fontsize=15,fontweight='bold')\n",
    "plt.show()"
   ]
  },
  {
   "cell_type": "markdown",
   "metadata": {},
   "source": [
    "Se eliminaron 230 registros (0.05%)"
   ]
  },
  {
   "cell_type": "code",
   "execution_count": 48,
   "metadata": {},
   "outputs": [],
   "source": [
    "calls.drop(calls[(calls['ser_time']<0)|(calls['ser_time']>50*60)].index,inplace=True)"
   ]
  },
  {
   "cell_type": "markdown",
   "metadata": {},
   "source": [
    "Quedaron 433699 registros"
   ]
  },
  {
   "cell_type": "markdown",
   "metadata": {},
   "source": [
    "## Analisis de Variables"
   ]
  },
  {
   "cell_type": "markdown",
   "metadata": {},
   "source": [
    "### Histogramas"
   ]
  },
  {
   "cell_type": "code",
   "execution_count": null,
   "metadata": {},
   "outputs": [],
   "source": [
    "#Histograma de los tiempos\n",
    "fig, ax = plt.subplots(1, 3,figsize = (15,4.5))\n",
    "fig.suptitle(\"Histograma de los tiempos SIN outliers\",fontsize=14, fontweight='bold')\n",
    "ax[0].hist(calls['vru_time'],bins=20,rwidth=0.5)\n",
    "ax[0].set_title('Tiempo en VRU (seg)')\n",
    "ax[0].set_xlim(Min_vru_s1,Max_vru_s1)\n",
    "ax[1].hist(calls['q_time'],bins=35,rwidth=0.5)\n",
    "ax[1].set_title('Tiempo en cola (seg)')\n",
    "ax[1].set_xlim(0,15*60)\n",
    "ax[2].hist(calls['ser_time'],bins=35,rwidth=0.5)\n",
    "ax[2].set_title('Tiempo en servicio (seg)')\n",
    "ax[2].set_xlim(0,50*60)\n",
    "plt.show()"
   ]
  },
  {
   "cell_type": "code",
   "execution_count": null,
   "metadata": {},
   "outputs": [],
   "source": [
    "counts, bins, patches = plt.hist(calls['outcome'],bins=3, rwidth=0.8)\n",
    "\n",
    "# Agregar los valores encima de cada barra\n",
    "for count, bin in zip(counts, bins[:-1]):\n",
    "    plt.text(bin + (bins[1] - bins[0]) / 2, count, str(int(count)), \n",
    "           ha='center', va='bottom', fontsize=10)\n",
    "    \n",
    "plt.show()"
   ]
  },
  {
   "cell_type": "code",
   "execution_count": null,
   "metadata": {},
   "outputs": [],
   "source": [
    "counts, bins, patches = plt.hist(calls['type'],bins=7, rwidth=0.8)\n",
    "\n",
    "# Agregar los valores encima de cada barra\n",
    "for count, bin in zip(counts, bins[:-1]):\n",
    "    plt.text(bin + (bins[1] - bins[0]) / 2, count, str(int(count)), \n",
    "           ha='center', va='bottom', fontsize=10)\n",
    "    \n",
    "plt.show()"
   ]
  },
  {
   "cell_type": "code",
   "execution_count": null,
   "metadata": {},
   "outputs": [],
   "source": [
    "counts, bins, patches = plt.hist(calls['priority'],bins=2, rwidth=0.8)\n",
    "\n",
    "# Agregar los valores encima de cada barra\n",
    "for count, bin in zip(counts, bins[:-1]):\n",
    "    plt.text(bin + (bins[1] - bins[0]) / 2, count, str(int(count)), \n",
    "           ha='center', va='bottom', fontsize=10)\n",
    "    \n",
    "plt.show()"
   ]
  },
  {
   "cell_type": "code",
   "execution_count": null,
   "metadata": {},
   "outputs": [],
   "source": [
    "plt.pie(calls['priority'].value_counts(),labels=calls['priority'].value_counts().index,autopct='%1.1f%%')\n",
    "plt.show()"
   ]
  },
  {
   "cell_type": "code",
   "execution_count": null,
   "metadata": {},
   "outputs": [],
   "source": [
    "plt.pie(calls['outcome'].value_counts(),labels=calls['outcome'].value_counts().index,autopct='%1.1f%%')\n",
    "plt.show()"
   ]
  },
  {
   "cell_type": "code",
   "execution_count": null,
   "metadata": {},
   "outputs": [],
   "source": [
    "plt.pie(calls['type'].value_counts(),autopct='%1.1f%%')\n",
    "plt.legend(['PS - Actividad Regular',\n",
    "            'NW - Cliente potencial',\n",
    "            'NE - Actividad por Acciones',\n",
    "            'IN - Actividad / Consulta por internet',\n",
    "            'TT - Mensaje'\n",
    "            'PE - Actividad Regular en inglés',\n",
    "\n",
    "\n",
    "\n",
    "\n",
    "],loc=\"center left\", bbox_to_anchor=(1, 0, 0.5, 1))\n",
    "plt.show()"
   ]
  },
  {
   "cell_type": "code",
   "execution_count": null,
   "metadata": {},
   "outputs": [],
   "source": [
    "calls['type'].value_counts()\n"
   ]
  }
 ],
 "metadata": {
  "kernelspec": {
   "display_name": "Python 3",
   "language": "python",
   "name": "python3"
  },
  "language_info": {
   "codemirror_mode": {
    "name": "ipython",
    "version": 3
   },
   "file_extension": ".py",
   "mimetype": "text/x-python",
   "name": "python",
   "nbconvert_exporter": "python",
   "pygments_lexer": "ipython3",
   "version": "3.12.4"
  }
 },
 "nbformat": 4,
 "nbformat_minor": 2
}
